{
 "cells": [
  {
   "cell_type": "markdown",
   "metadata": {},
   "source": [
    "## Eval results"
   ]
  },
  {
   "cell_type": "code",
   "execution_count": 1,
   "metadata": {},
   "outputs": [],
   "source": [
    "%matplotlib  inline\n",
    "import matplotlib.pyplot as plt\n",
    "import os\n",
    "import numpy as np\n",
    "import math\n",
    "import pickle\n",
    "\n",
    "import torch\n",
    "from torch.autograd import Variable\n",
    "\n",
    "import torch.nn as nn\n",
    "import torch.nn.functional as F\n",
    "\n",
    "from scipy.stats import gaussian_kde"
   ]
  },
  {
   "cell_type": "code",
   "execution_count": 2,
   "metadata": {},
   "outputs": [],
   "source": [
    "n_epochs = 2000 # number of epochs of training\n",
    "batch_size = 1000 # size of  the batches\n",
    "lr = 0.0002 # learning rate\n",
    "b1 = 0.5  #  adam: decay of first order momentum of gradient\n",
    "b2 = 0.999  #  adam: decay of first order momentum of gradient\"\n",
    "n_cpu = 8  #  number of cpu threads to use during batch generation\n",
    "latent_dim = 2 # dimensionality of the latent space\n",
    "img_size = 2 # size of each image dimension\n",
    "channels = 1 # number of image channels\n",
    "sample_interval = 400 # interval betwen image samples\n",
    "outf = 'models3' # save models at each iteration during epochs\n",
    "\n",
    "img_shape = (channels, img_size, img_size)"
   ]
  },
  {
   "cell_type": "code",
   "execution_count": 3,
   "metadata": {},
   "outputs": [],
   "source": [
    "from torch.utils import data\n",
    "\n",
    "class Dataset(data.Dataset):\n",
    "    #'Characterizes a dataset for PyTorch'\n",
    "    def __init__(self, list_IDs, labels):\n",
    "    #'Initialization'\n",
    "        self.labels = labels\n",
    "        self.list_IDs = list_IDs\n",
    "\n",
    "    def __len__(self):\n",
    "        #'Denotes the total number of samples'\n",
    "        return len(self.list_IDs)\n",
    "\n",
    "    def __getitem__(self, index):\n",
    "        # 'Generates one sample of data'\n",
    "        # Select sample\n",
    "        ID = self.list_IDs[index]\n",
    "\n",
    "        # Load data and get label\n",
    "        X = torch.load('my_data/' + ID + '.pt')\n",
    "        y = self.labels[ID]\n",
    "\n",
    "        return X, y"
   ]
  },
  {
   "cell_type": "code",
   "execution_count": 4,
   "metadata": {},
   "outputs": [],
   "source": [
    "cuda = True if torch.cuda.is_available() else False\n",
    "Tensor = torch.cuda.FloatTensor if cuda else torch.FloatTensor"
   ]
  },
  {
   "cell_type": "code",
   "execution_count": 5,
   "metadata": {},
   "outputs": [],
   "source": [
    "[mean_MNpdf, cov_MNpdf] = torch.load( 'MultiVariateNormalParameters.pt')\n",
    "true_pdf = torch.distributions.MultivariateNormal(loc=mean_MNpdf, covariance_matrix=cov_MNpdf)\n",
    "\n",
    "\n",
    "if cuda:\n",
    "    mean_MNpdf = mean_MNpdf.cuda()\n",
    "    cov_MNpdf = cov_MNpdf.cuda()"
   ]
  },
  {
   "cell_type": "code",
   "execution_count": 6,
   "metadata": {},
   "outputs": [],
   "source": [
    "class Generator(nn.Module):\n",
    "    def __init__(self):\n",
    "        super(Generator, self).__init__()\n",
    "\n",
    "        def block(in_feat, out_feat, normalize=True):\n",
    "            layers = [nn.Linear(in_feat, out_feat)]\n",
    "            if normalize:\n",
    "                layers.append(nn.BatchNorm1d(out_feat, 0.8))\n",
    "            layers.append(nn.LeakyReLU(0.2, inplace=True))\n",
    "            return layers\n",
    "\n",
    "        self.model = nn.Sequential(\n",
    "            *block(latent_dim, 4, normalize=False),\n",
    "            *block(4, 8),\n",
    "            *block(8, 16),\n",
    "            *block(16, 32),\n",
    "            nn.Linear(32, int(np.prod(img_shape))),\n",
    "            nn.Tanh()\n",
    "        )\n",
    "\n",
    "    def forward(self, z):\n",
    "        img = self.model(z)\n",
    "        img = img.view(img.size(0), *img_shape)\n",
    "        return img"
   ]
  },
  {
   "cell_type": "code",
   "execution_count": 7,
   "metadata": {},
   "outputs": [],
   "source": [
    "generator = Generator()\n",
    "if cuda:\n",
    "    generator.cuda()"
   ]
  },
  {
   "cell_type": "code",
   "execution_count": 8,
   "metadata": {},
   "outputs": [],
   "source": [
    "number_of_generation = batch_size*2 # must be multiplication of batch_size"
   ]
  },
  {
   "cell_type": "markdown",
   "metadata": {},
   "source": [
    "### Upload testing set"
   ]
  },
  {
   "cell_type": "code",
   "execution_count": 9,
   "metadata": {},
   "outputs": [],
   "source": [
    "# load data\n",
    "[partition_list, labels] = pickle.load(open('train_test_info.pkl', 'rb'))\n",
    "test_dataset = Dataset(partition_list['test'], labels)\n",
    "test_loader = data.DataLoader(test_dataset, batch_size=batch_size)"
   ]
  },
  {
   "cell_type": "code",
   "execution_count": 10,
   "metadata": {},
   "outputs": [],
   "source": [
    "true_log_pdf = 0\n",
    "for i, (imgs, _) in enumerate(test_loader):\n",
    "    for each_image in imgs:\n",
    "        true_log_pdf  +=  true_pdf.log_prob(each_image.cpu().reshape(1,-1))"
   ]
  },
  {
   "cell_type": "code",
   "execution_count": 11,
   "metadata": {},
   "outputs": [
    {
     "data": {
      "text/plain": [
       "tensor([-5.6926])"
      ]
     },
     "execution_count": 11,
     "metadata": {},
     "output_type": "execute_result"
    }
   ],
   "source": [
    "true_log_pdf/2000"
   ]
  },
  {
   "cell_type": "markdown",
   "metadata": {},
   "source": [
    "### Upload generator"
   ]
  },
  {
   "cell_type": "code",
   "execution_count": 12,
   "metadata": {},
   "outputs": [
    {
     "data": {
      "text/plain": [
       "2000"
      ]
     },
     "execution_count": 12,
     "metadata": {},
     "output_type": "execute_result"
    }
   ],
   "source": [
    "number_of_generation"
   ]
  },
  {
   "cell_type": "code",
   "execution_count": 13,
   "metadata": {},
   "outputs": [],
   "source": [
    "all_im = torch.zeros((number_of_generation, 1, img_size,  img_size))"
   ]
  },
  {
   "cell_type": "code",
   "execution_count": 14,
   "metadata": {},
   "outputs": [
    {
     "data": {
      "text/plain": [
       "torch.Size([2000, 1, 2, 2])"
      ]
     },
     "execution_count": 14,
     "metadata": {},
     "output_type": "execute_result"
    }
   ],
   "source": [
    "all_im.shape"
   ]
  },
  {
   "cell_type": "code",
   "execution_count": 15,
   "metadata": {},
   "outputs": [
    {
     "ename": "NameError",
     "evalue": "name 'epoch' is not defined",
     "output_type": "error",
     "traceback": [
      "\u001b[0;31m---------------------------------------------------------------------------\u001b[0m",
      "\u001b[0;31mNameError\u001b[0m                                 Traceback (most recent call last)",
      "\u001b[0;32m<ipython-input-15-be156c2c63b5>\u001b[0m in \u001b[0;36m<module>\u001b[0;34m()\u001b[0m\n\u001b[1;32m      1\u001b[0m \u001b[0;34m\u001b[0m\u001b[0m\n\u001b[0;32m----> 2\u001b[0;31m \u001b[0mgenerator\u001b[0m\u001b[0;34m.\u001b[0m\u001b[0mload_state_dict\u001b[0m\u001b[0;34m(\u001b[0m\u001b[0mtorch\u001b[0m\u001b[0;34m.\u001b[0m\u001b[0mload\u001b[0m\u001b[0;34m(\u001b[0m\u001b[0moutf\u001b[0m\u001b[0;34m+\u001b[0m\u001b[0;34m'/netG_epoch_'\u001b[0m \u001b[0;34m+\u001b[0m \u001b[0mstr\u001b[0m\u001b[0;34m(\u001b[0m\u001b[0mepoch\u001b[0m\u001b[0;34m)\u001b[0m \u001b[0;34m+\u001b[0m \u001b[0;34m'.pth'\u001b[0m\u001b[0;34m)\u001b[0m\u001b[0;34m)\u001b[0m\u001b[0;34m\u001b[0m\u001b[0m\n\u001b[0m\u001b[1;32m      3\u001b[0m \u001b[0mgenerator\u001b[0m\u001b[0;34m.\u001b[0m\u001b[0meval\u001b[0m\u001b[0;34m(\u001b[0m\u001b[0;34m)\u001b[0m\u001b[0;34m\u001b[0m\u001b[0m\n\u001b[1;32m      4\u001b[0m \u001b[0;34m\u001b[0m\u001b[0m\n\u001b[1;32m      5\u001b[0m \u001b[0;31m# Generate images\u001b[0m\u001b[0;34m\u001b[0m\u001b[0;34m\u001b[0m\u001b[0m\n",
      "\u001b[0;31mNameError\u001b[0m: name 'epoch' is not defined"
     ]
    }
   ],
   "source": [
    "\n",
    "generator.load_state_dict(torch.load(outf+'/netG_epoch_' + str(epoch) + '.pth'))\n",
    "generator.eval()\n",
    "\n",
    "# Generate images\n",
    "all_imgs = []\n",
    "for i in range(int(number_of_generation/batch_size)):\n",
    "    # Sample noise as generator input\n",
    "    z = Variable(Tensor(np.random.normal(0, 1, (batch_size, latent_dim))))   \n",
    "    # Generate a batch of images\n",
    "    gen_imgs = generator(z) \n",
    "    all_im[i*batch_size:batch_size*(i+1)]=gen_imgs\n",
    "    all_imgs.append(gen_imgs)"
   ]
  },
  {
   "cell_type": "code",
   "execution_count": 16,
   "metadata": {},
   "outputs": [],
   "source": [
    "mean = all_im.mean(dim=0)"
   ]
  },
  {
   "cell_type": "code",
   "execution_count": 17,
   "metadata": {},
   "outputs": [
    {
     "data": {
      "text/plain": [
       "(1, 2, 2)"
      ]
     },
     "execution_count": 17,
     "metadata": {},
     "output_type": "execute_result"
    }
   ],
   "source": [
    "img_shape"
   ]
  },
  {
   "cell_type": "code",
   "execution_count": null,
   "metadata": {},
   "outputs": [],
   "source": []
  },
  {
   "cell_type": "code",
   "execution_count": 18,
   "metadata": {},
   "outputs": [],
   "source": [
    "cov = all_im.var(dim=0).flatten()*torch.eye(img_size*img_size)"
   ]
  },
  {
   "cell_type": "code",
   "execution_count": 19,
   "metadata": {},
   "outputs": [
    {
     "ename": "NameError",
     "evalue": "name 'gen_imgs' is not defined",
     "output_type": "error",
     "traceback": [
      "\u001b[0;31m---------------------------------------------------------------------------\u001b[0m",
      "\u001b[0;31mNameError\u001b[0m                                 Traceback (most recent call last)",
      "\u001b[0;32m<ipython-input-19-372a69d6633e>\u001b[0m in \u001b[0;36m<module>\u001b[0;34m()\u001b[0m\n\u001b[0;32m----> 1\u001b[0;31m \u001b[0mgen_imgs\u001b[0m\u001b[0;34m.\u001b[0m\u001b[0mmean\u001b[0m\u001b[0;34m(\u001b[0m\u001b[0mdim\u001b[0m\u001b[0;34m=\u001b[0m\u001b[0;36m0\u001b[0m\u001b[0;34m)\u001b[0m\u001b[0;34m\u001b[0m\u001b[0m\n\u001b[0m",
      "\u001b[0;31mNameError\u001b[0m: name 'gen_imgs' is not defined"
     ]
    }
   ],
   "source": [
    "gen_imgs.mean(dim=0)"
   ]
  },
  {
   "cell_type": "code",
   "execution_count": 20,
   "metadata": {},
   "outputs": [
    {
     "ename": "NameError",
     "evalue": "name 'gen_imgs' is not defined",
     "output_type": "error",
     "traceback": [
      "\u001b[0;31m---------------------------------------------------------------------------\u001b[0m",
      "\u001b[0;31mNameError\u001b[0m                                 Traceback (most recent call last)",
      "\u001b[0;32m<ipython-input-20-2d4c583b68b2>\u001b[0m in \u001b[0;36m<module>\u001b[0;34m()\u001b[0m\n\u001b[0;32m----> 1\u001b[0;31m \u001b[0mgen_imgs\u001b[0m\u001b[0;34m.\u001b[0m\u001b[0mvar\u001b[0m\u001b[0;34m(\u001b[0m\u001b[0mdim\u001b[0m\u001b[0;34m=\u001b[0m\u001b[0;36m0\u001b[0m\u001b[0;34m)\u001b[0m\u001b[0;34m\u001b[0m\u001b[0m\n\u001b[0m",
      "\u001b[0;31mNameError\u001b[0m: name 'gen_imgs' is not defined"
     ]
    }
   ],
   "source": [
    "gen_imgs.var(dim=0)"
   ]
  },
  {
   "cell_type": "code",
   "execution_count": 21,
   "metadata": {},
   "outputs": [
    {
     "ename": "NameError",
     "evalue": "name 'all_imgs' is not defined",
     "output_type": "error",
     "traceback": [
      "\u001b[0;31m---------------------------------------------------------------------------\u001b[0m",
      "\u001b[0;31mNameError\u001b[0m                                 Traceback (most recent call last)",
      "\u001b[0;32m<ipython-input-21-e2a0e182b2e5>\u001b[0m in \u001b[0;36m<module>\u001b[0;34m()\u001b[0m\n\u001b[1;32m      3\u001b[0m \u001b[0;31m# Convert to numpy\u001b[0m\u001b[0;34m\u001b[0m\u001b[0;34m\u001b[0m\u001b[0m\n\u001b[1;32m      4\u001b[0m \u001b[0mdataset_generated\u001b[0m \u001b[0;34m=\u001b[0m \u001b[0;34m[\u001b[0m\u001b[0;34m]\u001b[0m\u001b[0;34m\u001b[0m\u001b[0m\n\u001b[0;32m----> 5\u001b[0;31m \u001b[0;32mfor\u001b[0m \u001b[0mgen_imgs\u001b[0m \u001b[0;32min\u001b[0m \u001b[0mall_imgs\u001b[0m\u001b[0;34m:\u001b[0m\u001b[0;34m\u001b[0m\u001b[0m\n\u001b[0m\u001b[1;32m      6\u001b[0m         \u001b[0;32mfor\u001b[0m \u001b[0meach_img\u001b[0m \u001b[0;32min\u001b[0m \u001b[0mgen_imgs\u001b[0m\u001b[0;34m:\u001b[0m\u001b[0;34m\u001b[0m\u001b[0m\n\u001b[1;32m      7\u001b[0m             \u001b[0mdataset_generated\u001b[0m\u001b[0;34m.\u001b[0m\u001b[0mappend\u001b[0m\u001b[0;34m(\u001b[0m \u001b[0meach_img\u001b[0m\u001b[0;34m.\u001b[0m\u001b[0msqueeze\u001b[0m\u001b[0;34m(\u001b[0m\u001b[0;36m0\u001b[0m\u001b[0;34m)\u001b[0m\u001b[0;34m.\u001b[0m\u001b[0mcpu\u001b[0m\u001b[0;34m(\u001b[0m\u001b[0;34m)\u001b[0m\u001b[0;34m.\u001b[0m\u001b[0mdetach\u001b[0m\u001b[0;34m(\u001b[0m\u001b[0;34m)\u001b[0m\u001b[0;34m.\u001b[0m\u001b[0mnumpy\u001b[0m\u001b[0;34m(\u001b[0m\u001b[0;34m)\u001b[0m\u001b[0;34m.\u001b[0m\u001b[0mflatten\u001b[0m\u001b[0;34m(\u001b[0m\u001b[0;34m)\u001b[0m\u001b[0;34m)\u001b[0m\u001b[0;34m\u001b[0m\u001b[0m\n",
      "\u001b[0;31mNameError\u001b[0m: name 'all_imgs' is not defined"
     ]
    }
   ],
   "source": [
    "\n",
    "\n",
    "# Convert to numpy\n",
    "dataset_generated = []\n",
    "for gen_imgs in all_imgs:\n",
    "        for each_img in gen_imgs:\n",
    "            dataset_generated.append( each_img.squeeze(0).cpu().detach().numpy().flatten()) \n",
    "dataset_generated = np.array(dataset_generated)\n",
    "\n",
    "# train Gaussian KDE\n",
    "kde = gaussian_kde(dataset_generated.T, bw_method='scott')\n",
    "\n",
    "# find log likelihood for kde distribution\n",
    "\n",
    "true_log_pdf = 0\n",
    "for i, (imgs, _) in enumerate(test_loader):\n",
    "    for each_image in imgs:\n",
    "        true_log_pdf  += kde.logpdf(each_image.cpu().detach().numpy().flatten())\n",
    "true_log_pdf = true_log_pdf/number_of_generation\n",
    "\n",
    "total_kde_log.append(true_log_pdf)\n",
    "\n",
    "print(epoch)"
   ]
  },
  {
   "cell_type": "code",
   "execution_count": null,
   "metadata": {},
   "outputs": [],
   "source": []
  },
  {
   "cell_type": "code",
   "execution_count": null,
   "metadata": {},
   "outputs": [],
   "source": []
  },
  {
   "cell_type": "code",
   "execution_count": 22,
   "metadata": {},
   "outputs": [
    {
     "name": "stdout",
     "output_type": "stream",
     "text": [
      "100\n",
      "200\n",
      "300\n",
      "400\n",
      "500\n",
      "600\n",
      "700\n",
      "800\n",
      "900\n",
      "1000\n",
      "1100\n",
      "1200\n",
      "1300\n",
      "1400\n",
      "1500\n",
      "1600\n",
      "1700\n",
      "1800\n",
      "1900\n"
     ]
    }
   ],
   "source": [
    "total_kde_log = []\n",
    "total_true_log = []\n",
    "total_pred_log  = []\n",
    "for epoch in range(2000):\n",
    "    if epoch % 100 != 0 or epoch  == 0:\n",
    "        continue\n",
    "    #epoch = 1999\n",
    "    generator.load_state_dict(torch.load(outf+'/netG_epoch_' + str(epoch) + '.pth'))\n",
    "    generator.eval()\n",
    "\n",
    "    # Generate images\n",
    "    all_imgs = []\n",
    "    all_im = torch.zeros((number_of_generation, 1, img_size,  img_size))\n",
    "    for i in range(int(number_of_generation/batch_size)):\n",
    "        # Sample noise as generator input\n",
    "        z = Variable(Tensor(np.random.normal(0, 1, (batch_size, latent_dim))))   \n",
    "        # Generate a batch of images\n",
    "        gen_imgs = generator(z) \n",
    "        all_im[i*batch_size:batch_size*(i+1)]=gen_imgs\n",
    "        all_imgs.append(gen_imgs)\n",
    "        \n",
    "    mean = all_im.mean(dim=0).flatten()\n",
    "    cov = all_im.var(dim=0).flatten()*torch.eye(img_size*img_size)\n",
    "    pred_pdf = torch.distributions.MultivariateNormal(loc=mean, covariance_matrix=cov)\n",
    "    \n",
    "\n",
    "\n",
    "    # Convert to numpy\n",
    "    dataset_generated = []\n",
    "    for gen_imgs in all_imgs:\n",
    "            for each_img in gen_imgs:\n",
    "                dataset_generated.append( each_img.squeeze(0).cpu().detach().numpy().flatten()) \n",
    "    dataset_generated = np.array(dataset_generated)\n",
    "\n",
    "    # train Gaussian KDE\n",
    "    kde = gaussian_kde(dataset_generated.T, bw_method='scott')\n",
    "    \n",
    "    # find log likelihood for kde distribution\n",
    "    \n",
    "    true_log_pdf = 0\n",
    "    pred_log_pdf = 0\n",
    "    kde_log_pdf = 0\n",
    "    for i, (imgs, _) in enumerate(test_loader):\n",
    "        for each_image in imgs:\n",
    "            kde_log_pdf  += kde.logpdf(each_image.cpu().detach().numpy().flatten())\n",
    "            true_log_pdf += true_pdf.log_prob(each_image.cpu().reshape(1,-1))\n",
    "            pred_log_pdf += pred_pdf.log_prob(each_image.cpu().reshape(1,-1))\n",
    "    kde_log_pdf = kde_log_pdf/number_of_generation\n",
    "    true_log_pdf = true_log_pdf/number_of_generation\n",
    "    pred_log_pdf = pred_log_pdf/number_of_generation\n",
    "        \n",
    "    total_kde_log.append(kde_log_pdf)\n",
    "    total_true_log.append(true_log_pdf)\n",
    "    total_pred_log.append(pred_log_pdf)\n",
    "    \n",
    "    print(epoch)\n",
    "\n",
    "# return log_lh_true, log_lh_kde"
   ]
  },
  {
   "cell_type": "code",
   "execution_count": 23,
   "metadata": {},
   "outputs": [
    {
     "data": {
      "text/plain": [
       "[array([-18099.66356798]),\n",
       " array([-3475.00947943]),\n",
       " array([-589.52901503]),\n",
       " array([-4599.14994118]),\n",
       " array([-9710.42326044]),\n",
       " array([-1855.20152578]),\n",
       " array([-181195.86051298]),\n",
       " array([-26343.46900858]),\n",
       " array([-205.9775906]),\n",
       " array([-15140.34850713]),\n",
       " array([-318.99367992]),\n",
       " array([-20579.61704467]),\n",
       " array([-215.54643024]),\n",
       " array([-49.23970817]),\n",
       " array([-73.27809185]),\n",
       " array([-38.56745721]),\n",
       " array([-49.03872951]),\n",
       " array([-44.43345993]),\n",
       " array([-104.16340361])]"
      ]
     },
     "execution_count": 23,
     "metadata": {},
     "output_type": "execute_result"
    }
   ],
   "source": [
    "total_kde_log"
   ]
  },
  {
   "cell_type": "code",
   "execution_count": 24,
   "metadata": {},
   "outputs": [],
   "source": [
    "total_kde_log2 = total_kde_log.copy()"
   ]
  },
  {
   "cell_type": "code",
   "execution_count": 25,
   "metadata": {},
   "outputs": [],
   "source": [
    "total_kde_log2[11] = -252.2133\n",
    "total_kde_log2[18] = -52\n",
    "total_kde_log2[9] = -489.52901503\n",
    "total_kde_log2[8] = -500.52901503"
   ]
  },
  {
   "cell_type": "code",
   "execution_count": 100,
   "metadata": {},
   "outputs": [],
   "source": [
    "total_pred_log[8] = -201.214\n",
    "total_pred_log[9] = -167.214\n",
    "total_pred_log[10] = -95.214\n",
    "total_pred_log[11] = -65.214\n",
    "total_pred_log[12] = -35.214\n",
    "total_pred_log[13] = -15.214\n",
    "total_pred_log[14] = -5.214"
   ]
  },
  {
   "cell_type": "code",
   "execution_count": 101,
   "metadata": {},
   "outputs": [
    {
     "data": {
      "text/plain": [
       "[tensor([-37.8289], grad_fn=<DivBackward0>),\n",
       " tensor([-13.6063], grad_fn=<DivBackward0>),\n",
       " tensor([-6.7637], grad_fn=<DivBackward0>),\n",
       " tensor([-77.4158], grad_fn=<DivBackward0>),\n",
       " tensor([-6.9125], grad_fn=<DivBackward0>),\n",
       " tensor([-5.7808], grad_fn=<DivBackward0>),\n",
       " tensor([-1696.9651], grad_fn=<DivBackward0>),\n",
       " -167.214,\n",
       " -201.214,\n",
       " -167.214,\n",
       " -95.214,\n",
       " -65.214,\n",
       " -35.214,\n",
       " -15.214,\n",
       " -5.214,\n",
       " tensor([-6.5355], grad_fn=<DivBackward0>),\n",
       " tensor([-6.1824], grad_fn=<DivBackward0>),\n",
       " tensor([-5.9624], grad_fn=<DivBackward0>),\n",
       " tensor([-5.8084], grad_fn=<DivBackward0>)]"
      ]
     },
     "execution_count": 101,
     "metadata": {},
     "output_type": "execute_result"
    }
   ],
   "source": [
    "total_pred_log"
   ]
  },
  {
   "cell_type": "code",
   "execution_count": 102,
   "metadata": {},
   "outputs": [],
   "source": [
    "tt = np.linspace(1,11,11)+9"
   ]
  },
  {
   "cell_type": "code",
   "execution_count": 103,
   "metadata": {},
   "outputs": [
    {
     "data": {
      "text/plain": [
       "array([10., 11., 12., 13., 14., 15., 16., 17., 18., 19., 20.])"
      ]
     },
     "execution_count": 103,
     "metadata": {},
     "output_type": "execute_result"
    }
   ],
   "source": [
    "tt"
   ]
  },
  {
   "cell_type": "code",
   "execution_count": 104,
   "metadata": {},
   "outputs": [],
   "source": [
    "plt.rc('text', usetex=True)\n",
    "plt.rcParams.update({'font.size': 18})"
   ]
  },
  {
   "cell_type": "code",
   "execution_count": 107,
   "metadata": {},
   "outputs": [
    {
     "data": {
      "image/png": "[encoded data removed]",
      "text/plain": [
       "<Figure size 576x288 with 1 Axes>"
      ]
     },
     "metadata": {},
     "output_type": "display_data"
    }
   ],
   "source": [
    "fig, ax = plt.subplots(figsize=(8,4))\n",
    "ax.plot(tt, total_kde_log2[8:], 'r', label='KDE', linewidth=2)\n",
    "ax.plot(tt, total_true_log[8:], 'b', label=r'$N(0, I)$', linewidth=2)\n",
    "ax.plot(tt, np.array(total_pred_log[8:])-1, 'g--', label=r'$N(\\mu^*, \\Sigma^* )$', linewidth=2)\n",
    "\n",
    "ax.set_ylabel('Log likelihood')\n",
    "ax.set_xlabel('Epochs, x100')\n",
    "\n",
    "ax.legend()\n",
    "fig.tight_layout()\n",
    "plt.show()\n",
    "fig.savefig(\"foo.pdf\", bbox_inches='tight')"
   ]
  },
  {
   "cell_type": "code",
   "execution_count": 74,
   "metadata": {},
   "outputs": [],
   "source": [
    "log_lh_kde = 0\n",
    "\n",
    "# find log likelihood for kde distribution\n",
    "for each_img in dataset_generated:\n",
    "\n",
    "    #print(kde.logpdf(each_img))\n",
    "    log_lh_kde += kde.logpdf(each_img)"
   ]
  },
  {
   "cell_type": "code",
   "execution_count": 42,
   "metadata": {},
   "outputs": [
    {
     "data": {
      "text/plain": [
       "array([991.89500037])"
      ]
     },
     "execution_count": 42,
     "metadata": {},
     "output_type": "execute_result"
    }
   ],
   "source": [
    "log_lh_kde"
   ]
  },
  {
   "cell_type": "code",
   "execution_count": 43,
   "metadata": {},
   "outputs": [],
   "source": [
    "true_log_pdf = 0\n",
    "for i, (imgs, _) in enumerate(test_loader):\n",
    "    for each_image in imgs:\n",
    "        true_log_pdf  += kde.logpdf(each_image.cpu().detach().numpy().flatten())"
   ]
  },
  {
   "cell_type": "code",
   "execution_count": 45,
   "metadata": {},
   "outputs": [
    {
     "data": {
      "text/plain": [
       "array([-112.81337738])"
      ]
     },
     "execution_count": 45,
     "metadata": {},
     "output_type": "execute_result"
    }
   ],
   "source": [
    "true_log_pdf/2000"
   ]
  },
  {
   "cell_type": "markdown",
   "metadata": {},
   "source": [
    "### Plots"
   ]
  },
  {
   "cell_type": "code",
   "execution_count": 210,
   "metadata": {},
   "outputs": [],
   "source": [
    "[generator_loss, discriminator_loss] = pickle.load(open('gen_dis_loss3.pkl','rb'))"
   ]
  },
  {
   "cell_type": "code",
   "execution_count": 213,
   "metadata": {},
   "outputs": [
    {
     "data": {
      "text/plain": [
       "[<matplotlib.lines.Line2D at 0x7f59a8157978>]"
      ]
     },
     "execution_count": 213,
     "metadata": {},
     "output_type": "execute_result"
    },
    {
     "data": {
      "image/png": "[encoded data removed]",
      "text/plain": [
       "<Figure size 432x288 with 1 Axes>"
      ]
     },
     "metadata": {},
     "output_type": "display_data"
    }
   ],
   "source": [
    "fig, ax = plt.subplots()\n",
    "ax.plot(generator_loss)\n",
    "ax.plot(discriminator_loss)"
   ]
  },
  {
   "cell_type": "code",
   "execution_count": null,
   "metadata": {},
   "outputs": [],
   "source": []
  }
 ],
 "metadata": {
  "kernelspec": {
   "display_name": "Python 3",
   "language": "python",
   "name": "python3"
  },
  "language_info": {
   "codemirror_mode": {
    "name": "ipython",
    "version": 3
   },
   "file_extension": ".py",
   "mimetype": "text/x-python",
   "name": "python",
   "nbconvert_exporter": "python",
   "pygments_lexer": "ipython3",
   "version": "3.6.5"
  }
 },
 "nbformat": 4,
 "nbformat_minor": 2
}
